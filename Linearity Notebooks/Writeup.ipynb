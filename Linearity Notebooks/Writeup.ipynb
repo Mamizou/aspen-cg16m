{
 "cells": [
  {
   "cell_type": "markdown",
   "metadata": {},
   "source": [
    "# Methods\n",
    "To test linearity, two datasets of photos were taken by starting with a low exposure time and taking photos, increasing the exposure each time. The idea is to start with exposures that yield a low number of ADU and stop taking photos when the ccd saturates or reaches its maximum ADU. Each dataset of linearity photos were taken with the telescope pointing at the top of the closed dome and the room light on. Dataset 1 was taken on Monday, May 21st. Dataset 2 was taken on Thursday, May 24th. Because the ccd chip was not equally saturated everywhere, a selection of pixel values in the center of the ccd were used opposed to the whole chip. "
   ]
  },
  {
   "cell_type": "markdown",
   "metadata": {},
   "source": [
    "# Results\n",
    "## Data\n",
    "The graphs below show the average CCD Data in counts on the y-axis, and the corresponding image's exposure time on the x-axis. The data was fit to a line. Ideally, the linear fit show what the ADU should be at a given exposure but the camera can only count up so high. At the far right, the data starts to dip. This is the where the CCD starts to saturate. "
   ]
  },
  {
   "cell_type": "markdown",
   "metadata": {},
   "source": [
    "Figure_1 | Figure_2\n",
    "- | -\n",
    "![Image name](Linear Fit for Dataset 1.png 'Figure 1') | ![Another Image](Linear Fit Dataset 2.png 'Figure 2')"
   ]
  },
  {
   "cell_type": "markdown",
   "metadata": {},
   "source": [
    "Dataset 1 seemed not as useful as desired so a second dataset with more datapoints was created. Additionally, we can look at the difference from the fit and what the data shows. This is useful to see where the data becomes unusable. On the x-axis is the measured counts and on the y-axis is the difference in ADU from the fit and the data as a percentage. an ideal window of error to allow is less than 2% from 0. "
   ]
  },
  {
   "cell_type": "markdown",
   "metadata": {},
   "source": [
    "figure_3 | figure_4\n",
    "- | -\n",
    "![Image](Residuals Counts for Dataset 1.png 'Figure 3') | ![Image](Residuals Counts for Dataset 2.png 'Figure 4')"
   ]
  },
  {
   "cell_type": "markdown",
   "metadata": {},
   "source": [
    "Again, Dataset 2 is more useful as it shows the same features but with more datapoints.\n",
    "## Subset of Data\n",
    "One issue with ploting the data from the whole CCD is that there are some areas of the chip that aren't equally saturated. For example, when the camera is near complete saturation, if the object is in the center of the frame then the center will be more saturated than the edges. To combat this only a subset of the data on the CCD was used to calculate the ADU. The subset is a 1000 by 1000 square in the middle of the CCD. "
   ]
  },
  {
   "cell_type": "markdown",
   "metadata": {},
   "source": [
    "figure_5 | figure_6\n",
    "- | -\n",
    "![Image](Linear Fit for Dataset 1 modified.png 'Figure 5') | ![Image](Linear Fit Dataset 2 modified.png 'Figure 6')"
   ]
  },
  {
   "cell_type": "markdown",
   "metadata": {},
   "source": [
    "When the Dataset is limited to a block in the center where saturation is more uniform, there is a more clear point of saturation. It also helps to look at the residuals since there is a more clear saturation."
   ]
  },
  {
   "cell_type": "markdown",
   "metadata": {},
   "source": [
    "figure_7 | figure_8\n",
    "- | -\n",
    "![Image](Residuals Counts for Dataset 1 modified.png 'Figure 7') |![Image](Residuals counts for Dataset 2 modified.png 'Figure 8')"
   ]
  },
  {
   "cell_type": "code",
   "execution_count": null,
   "metadata": {},
   "outputs": [],
   "source": []
  }
 ],
 "metadata": {
  "kernelspec": {
   "display_name": "Python 3",
   "language": "python",
   "name": "python3"
  },
  "language_info": {
   "codemirror_mode": {
    "name": "ipython",
    "version": 3
   },
   "file_extension": ".py",
   "mimetype": "text/x-python",
   "name": "python",
   "nbconvert_exporter": "python",
   "pygments_lexer": "ipython3",
   "version": "3.6.5"
  }
 },
 "nbformat": 4,
 "nbformat_minor": 2
}
