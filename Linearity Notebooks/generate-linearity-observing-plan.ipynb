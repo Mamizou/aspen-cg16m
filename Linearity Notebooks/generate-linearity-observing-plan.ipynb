{
 "cells": [
  {
   "cell_type": "code",
   "execution_count": 228,
   "metadata": {},
   "outputs": [],
   "source": [
    "import numpy as np\n",
    "\n",
    "repeat = 5\n",
    "max_exposure = 75\n",
    "min_exposure = 1\n",
    "time_between = 1\n",
    "points_between = 160\n",
    "step = .5\n",
    "\n",
    "exposures = list(np.arange(min_exposure, max_exposure, step))"
   ]
  },
  {
   "cell_type": "code",
   "execution_count": 229,
   "metadata": {},
   "outputs": [
    {
     "name": "stdout",
     "output_type": "stream",
     "text": [
      "Time for plan (minutes) 773.9166666666666\n"
     ]
    }
   ],
   "source": [
    "print('Time for plan (minutes)', repeat * ((sum(exposures) + 25 * len(exposures))/60))"
   ]
  },
  {
   "cell_type": "code",
   "execution_count": 218,
   "metadata": {},
   "outputs": [],
   "source": [
    "repeat = '#repeat ' + str(repeat)"
   ]
  },
  {
   "cell_type": "code",
   "execution_count": 219,
   "metadata": {},
   "outputs": [],
   "source": [
    "interval = '#interval {}'.format(','.join([str(i) for i in exposures]))"
   ]
  },
  {
   "cell_type": "code",
   "execution_count": 220,
   "metadata": {},
   "outputs": [],
   "source": [
    "binning = '#binning {}'.format(','.join(['1'] * len(exposures)))\n",
    "count = '#count {}'.format(','.join(['1'] * len(exposures)))"
   ]
  },
  {
   "cell_type": "code",
   "execution_count": 221,
   "metadata": {},
   "outputs": [],
   "source": [
    "fil = '#filter {}'.format(','.join(['r'] * len(exposures)))"
   ]
  },
  {
   "cell_type": "code",
   "execution_count": 222,
   "metadata": {},
   "outputs": [],
   "source": [
    "manual_dome = '#manual dome'"
   ]
  },
  {
   "cell_type": "markdown",
   "metadata": {},
   "source": [
    "## The output of the cell below is what you want\n",
    "\n",
    "I copied/pasted into an email to myself to get it on the telescope machine.\n",
    "\n",
    "Notebook now writes plan to text document."
   ]
  },
  {
   "cell_type": "code",
   "execution_count": 227,
   "metadata": {},
   "outputs": [],
   "source": [
    "read_out = '\\n'.join([repeat, count, binning, fil, interval, manual_dome])"
   ]
  },
  {
   "cell_type": "code",
   "execution_count": 225,
   "metadata": {},
   "outputs": [],
   "source": [
    "text_file = open('Linearity Plan.txt', 'w')\n",
    "text_file.write(str(read_out))\n",
    "text_file.close()"
   ]
  }
 ],
 "metadata": {
  "kernelspec": {
   "display_name": "Python 3",
   "language": "python",
   "name": "python3"
  },
  "language_info": {
   "codemirror_mode": {
    "name": "ipython",
    "version": 3
   },
   "file_extension": ".py",
   "mimetype": "text/x-python",
   "name": "python",
   "nbconvert_exporter": "python",
   "pygments_lexer": "ipython3",
   "version": "3.6.5"
  }
 },
 "nbformat": 4,
 "nbformat_minor": 2
}
